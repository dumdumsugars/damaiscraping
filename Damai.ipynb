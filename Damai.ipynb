{
 "cells": [
  {
   "cell_type": "code",
   "execution_count": 5,
   "metadata": {},
   "outputs": [],
   "source": [
    "import requests\n",
    "from bs4 import BeautifulSoup\n",
    "import json\n",
    "import pandas as pd"
   ]
  },
  {
   "cell_type": "code",
   "execution_count": 2,
   "metadata": {},
   "outputs": [],
   "source": [
    "filt = {\n",
    "    \"cty\":\"\", # 上海/北京/杭州/深圳/成都/广州/天津/南京/苏州/重庆 等\n",
    "    \"ctl\":\"\" # 展览休闲/音乐会/话剧歌剧/演唱会/曲苑杂坛/体育/舞蹈芭蕾/儿童亲子\n",
    "}"
   ]
  },
  {
   "cell_type": "code",
   "execution_count": 3,
   "metadata": {},
   "outputs": [],
   "source": [
    "def get_show(filt):\n",
    "    \n",
    "    res = requests.post('https://search.damai.cn/searchajax.html',data=filt) # requests.post 可以加data参数（requests.get没有这个参数）\n",
    "    # https://search.damai.cn/search.html 的源代码里找不到search结果，网页右键-检查-Network-刷新页面-searchajax.html?...文件\n",
    "    # -里面找到搜索结果文本，所以request这个页面\n",
    "    total_page = json.loads(res.text)['pageData']['totalPage']\n",
    "    title_list = []\n",
    "    price_list = []\n",
    "    showtime_list = []\n",
    "    page_list = []\n",
    "    cat_list = []\n",
    "    city_list = []\n",
    "    stat_list = []\n",
    "    ven_list = []\n",
    "    pricehi_list = []\n",
    "    for page in range(1,total_page+1):\n",
    "        filt[\"currPage\"] = page\n",
    "        res2 = requests.post('https://search.damai.cn/searchajax.html',data=filt)\n",
    "        show_list = json.loads(res2.text)['pageData']['resultData'] # 用jason.loads将文本转化为ordered dictionary\n",
    "        for show in show_list:\n",
    "            title_list.append(show['name'])\n",
    "            price_list.append(show['price'])\n",
    "            showtime_list.append(show['showtime'])\n",
    "            page_list.append(page)\n",
    "            cat_list.append(show['categoryname'])\n",
    "            city_list.append(show['cityname'])\n",
    "            stat_list.append(show['showstatus'])\n",
    "            ven_list.append(show['venue'])\n",
    "            pricehi_list.append(show['pricehigh'])\n",
    "    df = pd.DataFrame({'title':title_list,'category':cat_list,'city':city_list,'venue':ven_list,\n",
    "                       'pricelow':price_list,'pricehigh':pricehi_list,'showtime':showtime_list,\n",
    "                       'status':stat_list,'page':page_list})\n",
    "    return df"
   ]
  },
  {
   "cell_type": "code",
   "execution_count": 6,
   "metadata": {},
   "outputs": [],
   "source": [
    "df = get_show(filt)"
   ]
  },
  {
   "cell_type": "code",
   "execution_count": 7,
   "metadata": {},
   "outputs": [
    {
     "data": {
      "text/html": [
       "<div>\n",
       "<style scoped>\n",
       "    .dataframe tbody tr th:only-of-type {\n",
       "        vertical-align: middle;\n",
       "    }\n",
       "\n",
       "    .dataframe tbody tr th {\n",
       "        vertical-align: top;\n",
       "    }\n",
       "\n",
       "    .dataframe thead th {\n",
       "        text-align: right;\n",
       "    }\n",
       "</style>\n",
       "<table border=\"1\" class=\"dataframe\">\n",
       "  <thead>\n",
       "    <tr style=\"text-align: right;\">\n",
       "      <th></th>\n",
       "      <th>title</th>\n",
       "      <th>category</th>\n",
       "      <th>city</th>\n",
       "      <th>venue</th>\n",
       "      <th>pricelow</th>\n",
       "      <th>pricehigh</th>\n",
       "      <th>showtime</th>\n",
       "      <th>status</th>\n",
       "      <th>page</th>\n",
       "    </tr>\n",
       "  </thead>\n",
       "  <tbody>\n",
       "    <tr>\n",
       "      <td>0</td>\n",
       "      <td>“天空之城”久石让&amp;宫崎骏经典动漫作品演奏会</td>\n",
       "      <td>音乐会</td>\n",
       "      <td>成都</td>\n",
       "      <td>成都艺术中心音乐厅(原特仑苏音乐厅)</td>\n",
       "      <td>0.0</td>\n",
       "      <td>10000000.0</td>\n",
       "      <td>2020.07.19 周日</td>\n",
       "      <td>未开售</td>\n",
       "      <td>1</td>\n",
       "    </tr>\n",
       "    <tr>\n",
       "      <td>1</td>\n",
       "      <td>Fantasy on Ice 2020 in SHANGHAI 冰上幻想上海站</td>\n",
       "      <td>体育</td>\n",
       "      <td>上海</td>\n",
       "      <td></td>\n",
       "      <td>0.0</td>\n",
       "      <td>10000000.0</td>\n",
       "      <td>时间待定</td>\n",
       "      <td>未开售</td>\n",
       "      <td>1</td>\n",
       "    </tr>\n",
       "    <tr>\n",
       "      <td>2</td>\n",
       "      <td>西班牙|互动多媒体舞蹈旅行剧《开小差》</td>\n",
       "      <td>儿童亲子</td>\n",
       "      <td>北京</td>\n",
       "      <td>天桥艺术中心-多功能厅</td>\n",
       "      <td>0.0</td>\n",
       "      <td>10000000.0</td>\n",
       "      <td>2020.05.28~2020.06.07</td>\n",
       "      <td>未开售</td>\n",
       "      <td>1</td>\n",
       "    </tr>\n",
       "    <tr>\n",
       "      <td>3</td>\n",
       "      <td>“卡农Canon In D”永恒经典名曲精选音乐会</td>\n",
       "      <td>音乐会</td>\n",
       "      <td>成都</td>\n",
       "      <td>成都艺术中心音乐厅(原特仑苏音乐厅)</td>\n",
       "      <td>0.0</td>\n",
       "      <td>10000000.0</td>\n",
       "      <td>2020.06.26 周五</td>\n",
       "      <td>未开售</td>\n",
       "      <td>1</td>\n",
       "    </tr>\n",
       "    <tr>\n",
       "      <td>4</td>\n",
       "      <td>戏胞有艺思超级飞侠《多多帮帮忙》豪华亲子舞台剧</td>\n",
       "      <td>儿童亲子</td>\n",
       "      <td>呼和浩特</td>\n",
       "      <td></td>\n",
       "      <td>0.0</td>\n",
       "      <td>10000000.0</td>\n",
       "      <td>时间待定</td>\n",
       "      <td>未开售</td>\n",
       "      <td>1</td>\n",
       "    </tr>\n",
       "    <tr>\n",
       "      <td>...</td>\n",
       "      <td>...</td>\n",
       "      <td>...</td>\n",
       "      <td>...</td>\n",
       "      <td>...</td>\n",
       "      <td>...</td>\n",
       "      <td>...</td>\n",
       "      <td>...</td>\n",
       "      <td>...</td>\n",
       "      <td>...</td>\n",
       "    </tr>\n",
       "    <tr>\n",
       "      <td>1140</td>\n",
       "      <td>《联华梨园社·春熙剧场》—川戏清口特色川剧变脸秀</td>\n",
       "      <td>曲苑杂坛</td>\n",
       "      <td>成都</td>\n",
       "      <td>联华梨园社(春熙剧场)</td>\n",
       "      <td>78.0</td>\n",
       "      <td>128.0</td>\n",
       "      <td>2020.05.20-05.30</td>\n",
       "      <td>售票中</td>\n",
       "      <td>20</td>\n",
       "    </tr>\n",
       "    <tr>\n",
       "      <td>1141</td>\n",
       "      <td>东野圭吾“加贺系列”首部悬疑舞台剧 《新参者》</td>\n",
       "      <td>话剧歌剧</td>\n",
       "      <td>上海</td>\n",
       "      <td>人民大舞台</td>\n",
       "      <td>80.0</td>\n",
       "      <td>588.0</td>\n",
       "      <td>2020.07.16-07.19</td>\n",
       "      <td>售票中</td>\n",
       "      <td>20</td>\n",
       "    </tr>\n",
       "    <tr>\n",
       "      <td>1142</td>\n",
       "      <td>文旅驻场杂技秀《魔幻之都-极限快乐SHOW》</td>\n",
       "      <td>曲苑杂坛</td>\n",
       "      <td>重庆</td>\n",
       "      <td>重庆国际马戏城</td>\n",
       "      <td>100.0</td>\n",
       "      <td>280.0</td>\n",
       "      <td>2020.05.22-05.31</td>\n",
       "      <td>售票中</td>\n",
       "      <td>20</td>\n",
       "    </tr>\n",
       "    <tr>\n",
       "      <td>1143</td>\n",
       "      <td>重庆洪崖洞</td>\n",
       "      <td>展览休闲</td>\n",
       "      <td>重庆</td>\n",
       "      <td>洪崖洞民俗风貌区</td>\n",
       "      <td>15.0</td>\n",
       "      <td>15.0</td>\n",
       "      <td>2020.05.20-05.31</td>\n",
       "      <td>售票中</td>\n",
       "      <td>20</td>\n",
       "    </tr>\n",
       "    <tr>\n",
       "      <td>1144</td>\n",
       "      <td>缪时文化音乐剧衍生品</td>\n",
       "      <td>话剧歌剧</td>\n",
       "      <td>上海</td>\n",
       "      <td>大麦网上海站</td>\n",
       "      <td>30.0</td>\n",
       "      <td>80.0</td>\n",
       "      <td>2020.04.12-12.31</td>\n",
       "      <td>售票中</td>\n",
       "      <td>20</td>\n",
       "    </tr>\n",
       "  </tbody>\n",
       "</table>\n",
       "<p>1145 rows × 9 columns</p>\n",
       "</div>"
      ],
      "text/plain": [
       "                                        title category  city  \\\n",
       "0                      “天空之城”久石让&宫崎骏经典动漫作品演奏会      音乐会    成都   \n",
       "1     Fantasy on Ice 2020 in SHANGHAI 冰上幻想上海站       体育    上海   \n",
       "2                         西班牙|互动多媒体舞蹈旅行剧《开小差》     儿童亲子    北京   \n",
       "3                   “卡农Canon In D”永恒经典名曲精选音乐会      音乐会    成都   \n",
       "4                     戏胞有艺思超级飞侠《多多帮帮忙》豪华亲子舞台剧     儿童亲子  呼和浩特   \n",
       "...                                       ...      ...   ...   \n",
       "1140                 《联华梨园社·春熙剧场》—川戏清口特色川剧变脸秀     曲苑杂坛    成都   \n",
       "1141                  东野圭吾“加贺系列”首部悬疑舞台剧 《新参者》     话剧歌剧    上海   \n",
       "1142                   文旅驻场杂技秀《魔幻之都-极限快乐SHOW》     曲苑杂坛    重庆   \n",
       "1143                                    重庆洪崖洞     展览休闲    重庆   \n",
       "1144                               缪时文化音乐剧衍生品     话剧歌剧    上海   \n",
       "\n",
       "                   venue  pricelow   pricehigh               showtime status  \\\n",
       "0     成都艺术中心音乐厅(原特仑苏音乐厅)       0.0  10000000.0          2020.07.19 周日    未开售   \n",
       "1                              0.0  10000000.0                   时间待定    未开售   \n",
       "2            天桥艺术中心-多功能厅       0.0  10000000.0  2020.05.28~2020.06.07    未开售   \n",
       "3     成都艺术中心音乐厅(原特仑苏音乐厅)       0.0  10000000.0          2020.06.26 周五    未开售   \n",
       "4                              0.0  10000000.0                   时间待定    未开售   \n",
       "...                  ...       ...         ...                    ...    ...   \n",
       "1140         联华梨园社(春熙剧场)      78.0       128.0       2020.05.20-05.30    售票中   \n",
       "1141               人民大舞台      80.0       588.0       2020.07.16-07.19    售票中   \n",
       "1142             重庆国际马戏城     100.0       280.0       2020.05.22-05.31    售票中   \n",
       "1143            洪崖洞民俗风貌区      15.0        15.0       2020.05.20-05.31    售票中   \n",
       "1144              大麦网上海站      30.0        80.0       2020.04.12-12.31    售票中   \n",
       "\n",
       "      page  \n",
       "0        1  \n",
       "1        1  \n",
       "2        1  \n",
       "3        1  \n",
       "4        1  \n",
       "...    ...  \n",
       "1140    20  \n",
       "1141    20  \n",
       "1142    20  \n",
       "1143    20  \n",
       "1144    20  \n",
       "\n",
       "[1145 rows x 9 columns]"
      ]
     },
     "execution_count": 7,
     "metadata": {},
     "output_type": "execute_result"
    }
   ],
   "source": [
    "df"
   ]
  },
  {
   "cell_type": "code",
   "execution_count": 8,
   "metadata": {},
   "outputs": [
    {
     "data": {
      "text/plain": [
       "售票中    1119\n",
       "退票中      18\n",
       "未开售       6\n",
       "预售        2\n",
       "Name: status, dtype: int64"
      ]
     },
     "execution_count": 8,
     "metadata": {},
     "output_type": "execute_result"
    }
   ],
   "source": [
    "df.status.value_counts()"
   ]
  },
  {
   "cell_type": "code",
   "execution_count": 9,
   "metadata": {},
   "outputs": [
    {
     "data": {
      "text/plain": [
       "上海     226\n",
       "北京     101\n",
       "杭州      88\n",
       "深圳      87\n",
       "成都      75\n",
       "      ... \n",
       "连云港      1\n",
       "张家口      1\n",
       "洛阳       1\n",
       "蚌埠       1\n",
       "中山       1\n",
       "Name: city, Length: 61, dtype: int64"
      ]
     },
     "execution_count": 9,
     "metadata": {},
     "output_type": "execute_result"
    }
   ],
   "source": [
    "df.city.value_counts()"
   ]
  },
  {
   "cell_type": "code",
   "execution_count": 10,
   "metadata": {},
   "outputs": [
    {
     "data": {
      "text/plain": [
       "展览休闲    308\n",
       "儿童亲子    184\n",
       "音乐会     181\n",
       "话剧歌剧    174\n",
       "演唱会     135\n",
       "曲苑杂坛     69\n",
       "体育       62\n",
       "舞蹈芭蕾     32\n",
       "Name: category, dtype: int64"
      ]
     },
     "execution_count": 10,
     "metadata": {},
     "output_type": "execute_result"
    }
   ],
   "source": [
    "df.category.value_counts()"
   ]
  },
  {
   "cell_type": "code",
   "execution_count": 11,
   "metadata": {},
   "outputs": [
    {
     "data": {
      "text/html": [
       "<div>\n",
       "<style scoped>\n",
       "    .dataframe tbody tr th:only-of-type {\n",
       "        vertical-align: middle;\n",
       "    }\n",
       "\n",
       "    .dataframe tbody tr th {\n",
       "        vertical-align: top;\n",
       "    }\n",
       "\n",
       "    .dataframe thead th {\n",
       "        text-align: right;\n",
       "    }\n",
       "</style>\n",
       "<table border=\"1\" class=\"dataframe\">\n",
       "  <thead>\n",
       "    <tr style=\"text-align: right;\">\n",
       "      <th></th>\n",
       "      <th>pricelow</th>\n",
       "      <th>pricehigh</th>\n",
       "    </tr>\n",
       "  </thead>\n",
       "  <tbody>\n",
       "    <tr>\n",
       "      <td>count</td>\n",
       "      <td>1145.000000</td>\n",
       "      <td>1.145000e+03</td>\n",
       "    </tr>\n",
       "    <tr>\n",
       "      <td>mean</td>\n",
       "      <td>268.804017</td>\n",
       "      <td>1.319616e+05</td>\n",
       "    </tr>\n",
       "    <tr>\n",
       "      <td>std</td>\n",
       "      <td>1271.575145</td>\n",
       "      <td>1.137472e+06</td>\n",
       "    </tr>\n",
       "    <tr>\n",
       "      <td>min</td>\n",
       "      <td>0.000000</td>\n",
       "      <td>0.000000e+00</td>\n",
       "    </tr>\n",
       "    <tr>\n",
       "      <td>25%</td>\n",
       "      <td>50.000000</td>\n",
       "      <td>1.200000e+02</td>\n",
       "    </tr>\n",
       "    <tr>\n",
       "      <td>50%</td>\n",
       "      <td>80.000000</td>\n",
       "      <td>2.990000e+02</td>\n",
       "    </tr>\n",
       "    <tr>\n",
       "      <td>75%</td>\n",
       "      <td>180.000000</td>\n",
       "      <td>6.800000e+02</td>\n",
       "    </tr>\n",
       "    <tr>\n",
       "      <td>max</td>\n",
       "      <td>30000.000000</td>\n",
       "      <td>1.000000e+07</td>\n",
       "    </tr>\n",
       "  </tbody>\n",
       "</table>\n",
       "</div>"
      ],
      "text/plain": [
       "           pricelow     pricehigh\n",
       "count   1145.000000  1.145000e+03\n",
       "mean     268.804017  1.319616e+05\n",
       "std     1271.575145  1.137472e+06\n",
       "min        0.000000  0.000000e+00\n",
       "25%       50.000000  1.200000e+02\n",
       "50%       80.000000  2.990000e+02\n",
       "75%      180.000000  6.800000e+02\n",
       "max    30000.000000  1.000000e+07"
      ]
     },
     "execution_count": 11,
     "metadata": {},
     "output_type": "execute_result"
    }
   ],
   "source": [
    "df[['pricelow','pricehigh']].describe()"
   ]
  },
  {
   "cell_type": "code",
   "execution_count": 13,
   "metadata": {},
   "outputs": [],
   "source": [
    "import seaborn as sns\n",
    "import matplotlib.pyplot as plt\n",
    "%matplotlib inline"
   ]
  },
  {
   "cell_type": "code",
   "execution_count": 22,
   "metadata": {},
   "outputs": [
    {
     "data": {
      "text/plain": [
       "<matplotlib.axes._subplots.AxesSubplot at 0x2079cdf5c88>"
      ]
     },
     "execution_count": 22,
     "metadata": {},
     "output_type": "execute_result"
    },
    {
     "data": {
      "image/png": "[encoded data removed]",
      "text/plain": [
       "<Figure size 576x432 with 2 Axes>"
      ]
     },
     "metadata": {
      "needs_background": "light"
     },
     "output_type": "display_data"
    }
   ],
   "source": [
    "f,ax = plt.subplots(1,2,figsize=(8,6),sharey=True)\n",
    "df.pricelow.plot.box(showfliers=False,ax=ax[0])\n",
    "df.pricehigh.plot.box(showfliers=False,ax=ax[1])"
   ]
  },
  {
   "cell_type": "code",
   "execution_count": 23,
   "metadata": {},
   "outputs": [],
   "source": [
    "df1 = df[df.pricehigh<300001] #去掉极值"
   ]
  },
  {
   "cell_type": "code",
   "execution_count": 24,
   "metadata": {},
   "outputs": [
    {
     "data": {
      "text/plain": [
       "['上海', '北京', '杭州', '深圳', '成都', '天津', '广州', '武汉', '苏州', '重庆']"
      ]
     },
     "execution_count": 24,
     "metadata": {},
     "output_type": "execute_result"
    }
   ],
   "source": [
    "citylist = list(df1.city.value_counts().head(10).index)\n",
    "\n",
    "citylist"
   ]
  },
  {
   "cell_type": "code",
   "execution_count": 28,
   "metadata": {},
   "outputs": [
    {
     "data": {
      "text/plain": [
       "Text(0.5, 1.0, '各城市最低票价分布情况')"
      ]
     },
     "execution_count": 28,
     "metadata": {},
     "output_type": "execute_result"
    },
    {
     "data": {
      "image/png": "[encoded data removed]",
      "text/plain": [
       "<Figure size 720x360 with 1 Axes>"
      ]
     },
     "metadata": {},
     "output_type": "display_data"
    }
   ],
   "source": [
    "plt.figure(figsize=(10,5))\n",
    "sns.set(font='SimHei')\n",
    "sns.boxplot(x='city',y='pricelow',data=df1,order=citylist,showfliers=False)\n",
    "plt.title('各城市最低票价分布情况')"
   ]
  },
  {
   "cell_type": "code",
   "execution_count": 26,
   "metadata": {},
   "outputs": [
    {
     "data": {
      "text/plain": [
       "Text(0.5, 1.0, '各城市最高票价分布情况')"
      ]
     },
     "execution_count": 26,
     "metadata": {},
     "output_type": "execute_result"
    },
    {
     "data": {
      "image/png": "[encoded data removed]",
      "text/plain": [
       "<Figure size 720x360 with 1 Axes>"
      ]
     },
     "metadata": {},
     "output_type": "display_data"
    }
   ],
   "source": [
    "plt.figure(figsize=(10,5))\n",
    "#sns.set(font='SimHei')\n",
    "sns.boxplot(x='city',y='pricehigh',data=df1,order=citylist,showfliers=False)\n",
    "plt.title('各城市最高票价分布情况')"
   ]
  },
  {
   "cell_type": "code",
   "execution_count": null,
   "metadata": {},
   "outputs": [],
   "source": []
  }
 ],
 "metadata": {
  "kernelspec": {
   "display_name": "Python 3",
   "language": "python",
   "name": "python3"
  },
  "language_info": {
   "codemirror_mode": {
    "name": "ipython",
    "version": 3
   },
   "file_extension": ".py",
   "mimetype": "text/x-python",
   "name": "python",
   "nbconvert_exporter": "python",
   "pygments_lexer": "ipython3",
   "version": "3.7.4"
  }
 },
 "nbformat": 4,
 "nbformat_minor": 2
}
